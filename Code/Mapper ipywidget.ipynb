{
 "cells": [
  {
   "cell_type": "code",
   "execution_count": 1,
   "metadata": {},
   "outputs": [],
   "source": [
    "import warnings\n",
    "warnings.filterwarnings('ignore')"
   ]
  },
  {
   "cell_type": "code",
   "execution_count": 2,
   "metadata": {
    "scrolled": true
   },
   "outputs": [],
   "source": [
    "%matplotlib inline\n",
    "import kmapper as km\n",
    "from sklearn import datasets,cluster\n",
    "from sklearn.manifold import Isomap,MDS\n",
    "import matplotlib.pyplot as plt\n",
    "\n",
    "from matplotlib import cm, colors\n",
    "import pandas as pd\n",
    "import numpy as np\n",
    "import networkx as nx\n",
    "from networkx import path_graph, random_layout\n",
    "from ipywidgets import interact, interactive,GridspecLayout\n",
    "import ipywidgets as widgets\n",
    "\n",
    "import random"
   ]
  },
  {
   "cell_type": "code",
   "execution_count": 3,
   "metadata": {},
   "outputs": [],
   "source": [
    "df=pd.read_csv('.csv')# data passed to mapper\n",
    "data=df.values#np.array(df)\n",
    "end_df=pd.read_csv('.csv')# data for painting the network"
   ]
  },
  {
   "cell_type": "code",
   "execution_count": 4,
   "metadata": {},
   "outputs": [],
   "source": [
    "#Function to wrap mapper and generate the network. For now the projection is by using Isomap, but the idea is to make the specific\n",
    "#projection and clustering algorithm argguments for this function.\n",
    "\n",
    "def TDAmapper(n_cubes=10,per_overlap=70, metric='euclidean'):\n",
    "    global nx_graph\n",
    "    np.random.seed(4812)\n",
    "    random.seed(246) #after reading a bit the conclusion is that KeplerMapper uses both np.random and random processes,\n",
    "    #so to be consistent I set both seeds so if you run mapper with the same parameters several times you get the same graph\n",
    "    \n",
    "    mapper = km.KeplerMapper(verbose=0)\n",
    "\n",
    "    # Fit to and transform the data\n",
    "    lens = mapper.fit_transform(data, projection=Isomap(n_components=2, n_neighbors=3), \n",
    "                                          distance_matrix=metric,scaler=None)\n",
    "\n",
    "    graph = mapper.map(lens, data, nr_cubes=n_cubes, overlap_perc=per_overlap/100,\n",
    "                       clusterer=cluster.AgglomerativeClustering(n_clusters=4,\n",
    "                                                                 linkage=\"complete\",\n",
    "                                                                 affinity=\"cosine\"))\n",
    "    nx_graph=km.adapter.to_nx(graph)\n",
    "    return(nx_graph)"
   ]
  },
  {
   "cell_type": "code",
   "execution_count": 5,
   "metadata": {},
   "outputs": [],
   "source": [
    "#helper funtion to scale and map the values of the specified variable to color the nodes of the graph\n",
    "def mapping(variable):\n",
    "    var_type=end_df[variable].dtype.name\n",
    "    if var_type=='string'or var_type=='object' or var_type=='category':\n",
    "        end_df[variable]=end_df[variable].astype('category').cat.codes.replace(-1,np.NaN)\n",
    "        \n",
    "    mapping=[end_df.loc[nx_graph.node[i]['membership'], variable].mean() for i in nx_graph.node]\n",
    "    return(mapping)"
   ]
  },
  {
   "cell_type": "code",
   "execution_count": 6,
   "metadata": {},
   "outputs": [],
   "source": [
    "#function to plot and color two networks\n",
    "def plot(seed, node_size, scale_L, scale_R, res,variable_L='mean.map', variable_R='mean.HR'):\n",
    "        \n",
    "    mapping_L=mapping(variable_L)\n",
    "    mapping_R=mapping(variable_R)\n",
    "    norm_L = colors.Normalize(vmin=min(mapping_L), vmax=max(mapping_L))\n",
    "    norm_R = colors.Normalize(vmin=min(mapping_R), vmax=max(mapping_R))\n",
    "    plt.rcParams['figure.dpi']=res\n",
    "    \n",
    "    fig, ax = plt.subplots(ncols=2, figsize=(17,7))\n",
    "    \n",
    "    np.random.seed(seed)\n",
    "    nL=nx.draw(nx_graph,node_size=node_size, width=0.05, linewidths=2,ax=ax[0],vmin=scale_L[0],vmax=scale_L[1],\n",
    "            cmap=plt.cm.RdYlBu_r, node_color=mapping_L)\n",
    "    np.random.seed(seed)\n",
    "    nR=nx.draw(nx_graph,node_size=node_size, width=0.05, linewidths=2,ax=ax[1],vmin=scale_R[0],vmax=scale_R[1],\n",
    "            cmap=plt.cm.RdYlBu_r, node_color=mapping_R)\n",
    "    \n",
    "    fig.colorbar(cm.ScalarMappable(norm=norm_L, cmap=plt.cm.RdYlBu_r), ax=ax[0], orientation=\"horizontal\", pad=0.01)\n",
    "    fig.colorbar(cm.ScalarMappable(norm=norm_R, cmap=plt.cm.RdYlBu_r), ax=ax[1], orientation=\"horizontal\", pad=0.01)\n",
    "\n",
    "    fig.canvas.draw_idle()"
   ]
  },
  {
   "cell_type": "code",
   "execution_count": 8,
   "metadata": {},
   "outputs": [
    {
     "data": {
      "text/plain": [
       "<networkx.classes.graph.Graph at 0xdf2ea50>"
      ]
     },
     "execution_count": 8,
     "metadata": {},
     "output_type": "execute_result"
    }
   ],
   "source": [
    "TDAmapper()#Initialize mapper"
   ]
  },
  {
   "cell_type": "code",
   "execution_count": 9,
   "metadata": {
    "scrolled": false
   },
   "outputs": [],
   "source": [
    "#Creates a widget UI to change mapper parameters in the notebook. I am using this as a fast prototyping of a UI\n",
    "\n",
    "#widgets for runing Mapper\n",
    "mapper_grid = GridspecLayout(3, 4, height='150px') #generates the layout for Run Mapper tab\n",
    "mapper_grid[0,0]=widgets.IntSlider(min=1, max=100, step=1, continuous_update=False, description='N cubes:')\n",
    "mapper_grid[1,0]=widgets.FloatSlider(min=1, max=300, step=0.1, continuous_update=False, description='% overlap:')\n",
    "mapper_grid[2,0]=widgets.Dropdown(options=['euclidean'], value='euclidean', description='Metric:') #more metrics available, need implementation\n",
    "mapper_grid[0,1]=widgets.Dropdown(options=['Isomap', 'PCA', 'MDS'], value='Isomap', description='Lens:') #not implemented yet\n",
    "mapper_grid[2,3]=widgets.Button(description='Run MAPPER')\n",
    "\n",
    "#widgets for mapping both graphs\n",
    "mapping_grid = GridspecLayout(3, 5, height='150px')# generates the layout for plotting tab\n",
    "mapping_grid[0,0]=widgets.IntSlider(min=0,max=1000, step=10, continuous_update=False, description='Layout seed:') \n",
    "mapping_grid[0,1]=widgets.IntSlider(min=10, max=100, step=1, continuous_update=False, description='Node size:')\n",
    "mapping_grid[0,2]=widgets.Dropdown(options=[('50dpi',50), ('75dpi',75), ('150dpi', 150), ('300dpi', 300)],\n",
    "                           value=75,continuous_update=False, description='Img dpi:')\n",
    "mapping_grid[1,0]=widgets.Dropdown(options=end_df.columns,value=end_df.columns[0],description='Mapping var:',disabled=False)\n",
    "mapping_grid[1,2]=widgets.Dropdown(options=end_df.columns,value=end_df.columns[1],description='Mapping var:',disabled=False)\n",
    "\n",
    "mapping_L=mapping(mapping_grid[1,0].value)\n",
    "mapping_R=mapping(mapping_grid[1,2].value)\n",
    "\n",
    "mapping_grid[2,0]=widgets.FloatRangeSlider(value=[min(mapping_L),max(mapping_L)], \n",
    "                                           min=min(mapping_L),\n",
    "                                           max=max(mapping_L),step=0.1,description='Scale:',\n",
    "                                   disabled=False,continuous_update=False,orientation='horizontal', \n",
    "                                   readout=True,readout_format='.1f')\n",
    "\n",
    "mapping_grid[2,2]=widgets.FloatRangeSlider(value=[min(mapping_R),max(mapping_R)], \n",
    "                                           min=min(mapping_R),\n",
    "                                           max=max(mapping_R),step=0.1,description='Scale:',\n",
    "                                   disabled=False,continuous_update=False,orientation='horizontal', \n",
    "                                   readout=True,readout_format='.1f')\n",
    "\n",
    "# re scale the slider L depending on the range of the variable selected to color\n",
    "def update_scale_L_range(*args):\n",
    "    mapping_grid[2,0].min = min(mapping(mapping_grid[1,0].value))\n",
    "    mapping_grid[2,0].max = max(mapping(mapping_grid[1,0].value))\n",
    "    \n",
    "mapping_grid[1,0].observe(update_scale_L_range, 'value')\n",
    "\n",
    "# re scale the slider R depending on the range of the variable selected to color\n",
    "def update_scale_R_range(*args):\n",
    "    mapping_grid[2,2].min = min(mapping(mapping_grid[1,2].value))\n",
    "    mapping_grid[2,2].max = max(mapping(mapping_grid[1,2].value))\n",
    "    \n",
    "mapping_grid[1,2].observe(update_scale_R_range, 'value')\n",
    "\n",
    "tab_nest = widgets.Tab()\n",
    "tab_nest.children = [mapper_grid, mapping_grid]\n",
    "tab_nest.set_title(0, 'Run MAPPER')\n",
    "tab_nest.set_title(1, 'Plotting')\n",
    "\n",
    "plot_out = widgets.interactive_output(plot, {'seed': mapping_grid[0,0], 'node_size': mapping_grid[0,1], 'scale_L': mapping_grid[2,0],\n",
    "                                         'scale_R':mapping_grid[2,2], 'variable_L':mapping_grid[1,0], 'variable_R':mapping_grid[1,2], \n",
    "                                         'res':mapping_grid[0,2]})\n",
    "\n",
    "#re run mapper when 'run mapper' is clicked\n",
    "def run_clicked(b):\n",
    "    plot_out.clear_output()\n",
    "    TDAmapper(n_cubes=mapper_grid[0,0].value, per_overlap=mapper_grid[1,0].value)\n",
    "    out = widgets.interactive_output(plot, {'seed': mapping_grid[0,0], 'node_size': mapping_grid[0,1], 'scale_L': mapping_grid[2,0],\n",
    "                                         'scale_R':mapping_grid[2,2], 'variable_L':mapping_grid[1,0], 'variable_R':mapping_grid[1,2], \n",
    "                                         'res':mapping_grid[0,2]})\n",
    "    with plot_out:\n",
    "        display(out)\n",
    "        \n",
    "mapper_grid[2,3].on_click(run_clicked)"
   ]
  },
  {
   "cell_type": "code",
   "execution_count": null,
   "metadata": {},
   "outputs": [],
   "source": [
    "#generates mapper network based on the widgets default\n",
    "TDAmapper(n_cubes=mapper_grid[0,0].value, per_overlap=mapper_grid[1,0].value)"
   ]
  },
  {
   "cell_type": "code",
   "execution_count": 10,
   "metadata": {
    "scrolled": false
   },
   "outputs": [
    {
     "data": {
      "application/vnd.jupyter.widget-view+json": {
       "model_id": "431ba799a8ba45a1a31eb1720fbc6d40",
       "version_major": 2,
       "version_minor": 0
      },
      "text/plain": [
       "VBox(children=(Tab(children=(GridspecLayout(children=(IntSlider(value=1, continuous_update=False, description=…"
      ]
     },
     "metadata": {},
     "output_type": "display_data"
    }
   ],
   "source": [
    "#Displays the UI. There are two tabs, the first to control parameters for mapper. Every time a parameter is changed, the run\n",
    "#mapper button signals to re run mapper. I did not wanted to do a 'live' update of mapper since depending on the parameters\n",
    "#takes a lot of time and lag build up. The second tab controls the coloring parameters and can be change without the need to run\n",
    "#mapper every time, what makes the process a bit faster.\n",
    "\n",
    "display(widgets.VBox([tab_nest, plot_out]))"
   ]
  },
  {
   "cell_type": "code",
   "execution_count": null,
   "metadata": {},
   "outputs": [],
   "source": []
  }
 ],
 "metadata": {
  "kernelspec": {
   "display_name": "Python 3",
   "language": "python",
   "name": "python3"
  },
  "language_info": {
   "codemirror_mode": {
    "name": "ipython",
    "version": 3
   },
   "file_extension": ".py",
   "mimetype": "text/x-python",
   "name": "python",
   "nbconvert_exporter": "python",
   "pygments_lexer": "ipython3",
   "version": "3.7.1"
  }
 },
 "nbformat": 4,
 "nbformat_minor": 2
}
